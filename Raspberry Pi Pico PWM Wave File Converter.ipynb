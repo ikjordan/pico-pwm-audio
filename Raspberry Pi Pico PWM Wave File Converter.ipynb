{
 "cells": [
  {
   "cell_type": "code",
   "execution_count": 34,
   "metadata": {},
   "outputs": [
    {
     "data": {
      "image/png": "[encoded data removed]",
      "text/plain": [
       "<Figure size 432x288 with 1 Axes>"
      ]
     },
     "metadata": {
      "needs_background": "light"
     },
     "output_type": "display_data"
    }
   ],
   "source": [
    "import soundfile as sf\n",
    "import matplotlib.pyplot as plt\n",
    "\n",
    "soundfile = 'sample.wav'\n",
    "data_in, datasamplerate = sf.read(soundfile)\n",
    "# This means stereo so extract one channel 0\n",
    "if len(data_in.shape)>1:\n",
    "    data_in = data_in[:,0]\n",
    "plt.plot(data_in)\n",
    "plt.ylabel(soundfile)\n",
    "plt.show()\n",
    "\n"
   ]
  },
  {
   "cell_type": "code",
   "execution_count": 35,
   "metadata": {},
   "outputs": [
    {
     "name": "stdout",
     "output_type": "stream",
     "text": [
      "[0.00036389 0.00052258 0.00047084 ... 0.03996822 0.01889066 0.02708749]\n",
      "length 330000\n",
      "max value 0.25679746\n",
      "min value -0.22195898\n",
      "value range 0.47875643\n"
     ]
    }
   ],
   "source": [
    "import samplerate\n",
    "converter = 'sinc_best'  # or 'sinc_fastest', ...\n",
    "desired_sample_rate = 11000.0\n",
    "ratio = desired_sample_rate/datasamplerate\n",
    "data_out = samplerate.resample(data_in, ratio, converter)\n",
    "print(data_out)\n",
    "maxValue = max(data_out)\n",
    "minValue = min(data_out)\n",
    "print(\"length\", len(data_out))\n",
    "print(\"max value\", max(data_out))\n",
    "print(\"min value\", min(data_out))\n",
    "vrange = (maxValue - minValue) \n",
    "# Determine the largest deviation from 0\n",
    "#vdev = max(maxValue, -minValue)\n",
    "#vrange = 2 * vdev\n",
    "print(\"value range\", vrange)"
   ]
  },
  {
   "cell_type": "code",
   "execution_count": null,
   "metadata": {},
   "outputs": [],
   "source": [
    "m68code = \"/*    File \"+soundfile+ \"\\r\\n *    Sample rate \"+str(int(desired_sample_rate)) +\" Hz\\r\\n */\\r\\n\"\n",
    "m68code += \"#define TWELVE_BIT \\r\\n\"\n",
    "m68code += \"#define SAMPLE_RATE \"+str(int(desired_sample_rate))+\" \\r\\n\"\n",
    "m68code += \"#define WAV_DATA_LENGTH \"+str(len(data_out))+\" \\r\\n\\r\\n\"\n",
    "m68code += \"const uint16_t WAV_DATA[] = {\\r\\n    \"\n",
    "maxitemsperline = 16\n",
    "itemsonline = maxitemsperline\n",
    "firstvalue = 0\n",
    "lastvalue = 0\n",
    "\n",
    "for v in data_out:\n",
    "    # scale v to between 0 and 1\n",
    "    #isin = (v+vdev)/vrange   \n",
    "    isin = (v-minValue)/vrange   \n",
    "    v =  int((isin * 4000))\n",
    "    vstr = str(v)\n",
    "    if (firstvalue==0):\n",
    "        firstvalue= v\n",
    "    lastvalue = v\n",
    "    m68code+=vstr\n",
    "    itemsonline-=1\n",
    "    if (itemsonline>0):\n",
    "        m68code+=','\n",
    "    else:\n",
    "        itemsonline = maxitemsperline\n",
    "        m68code+=',\\r\\n    '\n",
    "        \n",
    "# keep track of first and last values to avoid\n",
    "# blip when the loop restarts.. make the end value\n",
    "# the average of the first and last. \n",
    "end_value = int( (firstvalue + lastvalue) / 2)\n",
    "m68code+=str(end_value)+'    \\r\\n};'\n",
    "print(m68code)    "
   ]
  },
  {
   "cell_type": "code",
   "execution_count": null,
   "metadata": {},
   "outputs": [],
   "source": []
  },
  {
   "cell_type": "code",
   "execution_count": null,
   "metadata": {},
   "outputs": [],
   "source": []
  },
  {
   "cell_type": "code",
   "execution_count": null,
   "metadata": {},
   "outputs": [],
   "source": []
  },
  {
   "cell_type": "code",
   "execution_count": null,
   "metadata": {},
   "outputs": [],
   "source": []
  },
  {
   "cell_type": "code",
   "execution_count": null,
   "metadata": {},
   "outputs": [],
   "source": []
  }
 ],
 "metadata": {
  "kernelspec": {
   "display_name": "Python 3",
   "language": "python",
   "name": "python3"
  },
  "language_info": {
   "codemirror_mode": {
    "name": "ipython",
    "version": 3
   },
   "file_extension": ".py",
   "mimetype": "text/x-python",
   "name": "python",
   "nbconvert_exporter": "python",
   "pygments_lexer": "ipython3",
   "version": "3.7.3"
  }
 },
 "nbformat": 4,
 "nbformat_minor": 4
}
